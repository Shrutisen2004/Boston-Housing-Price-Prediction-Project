{
  "nbformat": 4,
  "nbformat_minor": 0,
  "metadata": {
    "colab": {
      "provenance": [],
      "authorship_tag": "ABX9TyNdl0gJYfOdD5SPDTG8fVpl",
      "include_colab_link": true
    },
    "kernelspec": {
      "name": "python3",
      "display_name": "Python 3"
    },
    "language_info": {
      "name": "python"
    }
  },
  "cells": [
    {
      "cell_type": "markdown",
      "metadata": {
        "id": "view-in-github",
        "colab_type": "text"
      },
      "source": [
        "<a href=\"https://colab.research.google.com/github/Shrutisen2004/Boston-Housing-Price-Prediction-Project/blob/main/BostonHousingPrediction.ipynb\" target=\"_parent\"><img src=\"https://colab.research.google.com/assets/colab-badge.svg\" alt=\"Open In Colab\"/></a>"
      ]
    },
    {
      "cell_type": "markdown",
      "source": [
        "# Importing the Libraries"
      ],
      "metadata": {
        "id": "1Lqpdp3CaGO4"
      }
    },
    {
      "cell_type": "code",
      "execution_count": 2,
      "metadata": {
        "id": "gtRC5yH1Z_5V"
      },
      "outputs": [],
      "source": [
        "from keras.models import Sequential\n",
        "from keras.layers import Dense\n",
        "from sklearn.preprocessing import StandardScaler\n",
        "from sklearn.model_selection import train_test_split\n",
        "import numpy as np\n",
        "import pandas as pd"
      ]
    },
    {
      "cell_type": "markdown",
      "source": [
        "# Loading the Dataset"
      ],
      "metadata": {
        "id": "flhjqj76beig"
      }
    },
    {
      "cell_type": "code",
      "source": [
        "BosData = pd.read_csv('BostonHousing.csv')\n",
        "X = BosData.iloc[:, 0:13]\n",
        "y = BosData.iloc[:, 13]"
      ],
      "metadata": {
        "id": "f9_qmMYdbdW_"
      },
      "execution_count": 4,
      "outputs": []
    },
    {
      "cell_type": "markdown",
      "source": [
        "# Data Preprocessing"
      ],
      "metadata": {
        "id": "XN92VYdGcPgf"
      }
    },
    {
      "cell_type": "code",
      "source": [
        "ss = StandardScaler()\n",
        "X = ss.fit_transform(X)\n",
        "Xtrain, Xtest, ytrain, ytest = train_test_split(X, y, test_size=0.2)"
      ],
      "metadata": {
        "id": "uquC2WbDcLt1"
      },
      "execution_count": 5,
      "outputs": []
    },
    {
      "cell_type": "markdown",
      "source": [
        "# Building the Neural Network Model"
      ],
      "metadata": {
        "id": "wVJzdaKvdBKA"
      }
    },
    {
      "cell_type": "code",
      "source": [
        "model = Sequential()\n",
        "model.add(Dense(13, input_dim=13, activation=\"relu\"))\n",
        "model.add(Dense(1))\n",
        "model.compile(loss=\"mean_squared_error\", optimizer=\"adam\")"
      ],
      "metadata": {
        "id": "amkT22uwc1TU"
      },
      "execution_count": 6,
      "outputs": []
    },
    {
      "cell_type": "markdown",
      "source": [
        "# Training the Model"
      ],
      "metadata": {
        "id": "N6Onuh2QduRm"
      }
    },
    {
      "cell_type": "code",
      "source": [
        "history = model.fit(Xtrain, ytrain, epochs=150, batch_size=10)"
      ],
      "metadata": {
        "colab": {
          "base_uri": "https://localhost:8080/"
        },
        "id": "LtbmEenQdyZb",
        "outputId": "fe54eead-c184-46c7-a161-0baec6e7031f"
      },
      "execution_count": 7,
      "outputs": [
        {
          "output_type": "stream",
          "name": "stdout",
          "text": [
            "Epoch 1/150\n",
            "41/41 [==============================] - 1s 2ms/step - loss: 572.2777\n",
            "Epoch 2/150\n",
            "41/41 [==============================] - 0s 2ms/step - loss: 548.9228\n",
            "Epoch 3/150\n",
            "41/41 [==============================] - 0s 2ms/step - loss: 526.2700\n",
            "Epoch 4/150\n",
            "41/41 [==============================] - 0s 2ms/step - loss: 503.3583\n",
            "Epoch 5/150\n",
            "41/41 [==============================] - 0s 2ms/step - loss: 479.0614\n",
            "Epoch 6/150\n",
            "41/41 [==============================] - 0s 2ms/step - loss: 453.1806\n",
            "Epoch 7/150\n",
            "41/41 [==============================] - 0s 2ms/step - loss: 425.8195\n",
            "Epoch 8/150\n",
            "41/41 [==============================] - 0s 3ms/step - loss: 396.9113\n",
            "Epoch 9/150\n",
            "41/41 [==============================] - 0s 3ms/step - loss: 366.6762\n",
            "Epoch 10/150\n",
            "41/41 [==============================] - 0s 2ms/step - loss: 335.7888\n",
            "Epoch 11/150\n",
            "41/41 [==============================] - 0s 3ms/step - loss: 303.5606\n",
            "Epoch 12/150\n",
            "41/41 [==============================] - 0s 3ms/step - loss: 271.0738\n",
            "Epoch 13/150\n",
            "41/41 [==============================] - 0s 2ms/step - loss: 239.0624\n",
            "Epoch 14/150\n",
            "41/41 [==============================] - 0s 2ms/step - loss: 208.2143\n",
            "Epoch 15/150\n",
            "41/41 [==============================] - 0s 2ms/step - loss: 179.1230\n",
            "Epoch 16/150\n",
            "41/41 [==============================] - 0s 4ms/step - loss: 152.3158\n",
            "Epoch 17/150\n",
            "41/41 [==============================] - 0s 6ms/step - loss: 129.0661\n",
            "Epoch 18/150\n",
            "41/41 [==============================] - 0s 4ms/step - loss: 108.7434\n",
            "Epoch 19/150\n",
            "41/41 [==============================] - 0s 3ms/step - loss: 92.6438\n",
            "Epoch 20/150\n",
            "41/41 [==============================] - 0s 2ms/step - loss: 79.5239\n",
            "Epoch 21/150\n",
            "41/41 [==============================] - 0s 3ms/step - loss: 69.0135\n",
            "Epoch 22/150\n",
            "41/41 [==============================] - 0s 3ms/step - loss: 60.8748\n",
            "Epoch 23/150\n",
            "41/41 [==============================] - 0s 3ms/step - loss: 54.5615\n",
            "Epoch 24/150\n",
            "41/41 [==============================] - 0s 3ms/step - loss: 49.3098\n",
            "Epoch 25/150\n",
            "41/41 [==============================] - 0s 3ms/step - loss: 45.4158\n",
            "Epoch 26/150\n",
            "41/41 [==============================] - 0s 2ms/step - loss: 42.1174\n",
            "Epoch 27/150\n",
            "41/41 [==============================] - 0s 2ms/step - loss: 39.3937\n",
            "Epoch 28/150\n",
            "41/41 [==============================] - 0s 2ms/step - loss: 37.2971\n",
            "Epoch 29/150\n",
            "41/41 [==============================] - 0s 2ms/step - loss: 35.3145\n",
            "Epoch 30/150\n",
            "41/41 [==============================] - 0s 2ms/step - loss: 33.7443\n",
            "Epoch 31/150\n",
            "41/41 [==============================] - 0s 2ms/step - loss: 32.2610\n",
            "Epoch 32/150\n",
            "41/41 [==============================] - 0s 3ms/step - loss: 31.0335\n",
            "Epoch 33/150\n",
            "41/41 [==============================] - 0s 3ms/step - loss: 29.9399\n",
            "Epoch 34/150\n",
            "41/41 [==============================] - 0s 3ms/step - loss: 29.0564\n",
            "Epoch 35/150\n",
            "41/41 [==============================] - 0s 2ms/step - loss: 28.0857\n",
            "Epoch 36/150\n",
            "41/41 [==============================] - 0s 2ms/step - loss: 27.3467\n",
            "Epoch 37/150\n",
            "41/41 [==============================] - 0s 2ms/step - loss: 26.6745\n",
            "Epoch 38/150\n",
            "41/41 [==============================] - 0s 2ms/step - loss: 26.0078\n",
            "Epoch 39/150\n",
            "41/41 [==============================] - 0s 2ms/step - loss: 25.5315\n",
            "Epoch 40/150\n",
            "41/41 [==============================] - 0s 2ms/step - loss: 25.0418\n",
            "Epoch 41/150\n",
            "41/41 [==============================] - 0s 4ms/step - loss: 24.6053\n",
            "Epoch 42/150\n",
            "41/41 [==============================] - 0s 3ms/step - loss: 24.2301\n",
            "Epoch 43/150\n",
            "41/41 [==============================] - 0s 2ms/step - loss: 23.8816\n",
            "Epoch 44/150\n",
            "41/41 [==============================] - 0s 4ms/step - loss: 23.5419\n",
            "Epoch 45/150\n",
            "41/41 [==============================] - 0s 5ms/step - loss: 23.2135\n",
            "Epoch 46/150\n",
            "41/41 [==============================] - 0s 4ms/step - loss: 22.9308\n",
            "Epoch 47/150\n",
            "41/41 [==============================] - 0s 6ms/step - loss: 22.6226\n",
            "Epoch 48/150\n",
            "41/41 [==============================] - 0s 5ms/step - loss: 22.3562\n",
            "Epoch 49/150\n",
            "41/41 [==============================] - 0s 5ms/step - loss: 22.1187\n",
            "Epoch 50/150\n",
            "41/41 [==============================] - 0s 3ms/step - loss: 21.8957\n",
            "Epoch 51/150\n",
            "41/41 [==============================] - 0s 3ms/step - loss: 21.6147\n",
            "Epoch 52/150\n",
            "41/41 [==============================] - 0s 3ms/step - loss: 21.4030\n",
            "Epoch 53/150\n",
            "41/41 [==============================] - 0s 4ms/step - loss: 21.1144\n",
            "Epoch 54/150\n",
            "41/41 [==============================] - 0s 3ms/step - loss: 20.9138\n",
            "Epoch 55/150\n",
            "41/41 [==============================] - 0s 3ms/step - loss: 20.6747\n",
            "Epoch 56/150\n",
            "41/41 [==============================] - 0s 5ms/step - loss: 20.5091\n",
            "Epoch 57/150\n",
            "41/41 [==============================] - 0s 3ms/step - loss: 20.1916\n",
            "Epoch 58/150\n",
            "41/41 [==============================] - 0s 4ms/step - loss: 19.9987\n",
            "Epoch 59/150\n",
            "41/41 [==============================] - 0s 5ms/step - loss: 19.7885\n",
            "Epoch 60/150\n",
            "41/41 [==============================] - 0s 5ms/step - loss: 19.6153\n",
            "Epoch 61/150\n",
            "41/41 [==============================] - 0s 4ms/step - loss: 19.4465\n",
            "Epoch 62/150\n",
            "41/41 [==============================] - 0s 3ms/step - loss: 19.2012\n",
            "Epoch 63/150\n",
            "41/41 [==============================] - 0s 4ms/step - loss: 19.0256\n",
            "Epoch 64/150\n",
            "41/41 [==============================] - 0s 6ms/step - loss: 18.7939\n",
            "Epoch 65/150\n",
            "41/41 [==============================] - 0s 6ms/step - loss: 18.5992\n",
            "Epoch 66/150\n",
            "41/41 [==============================] - 0s 5ms/step - loss: 18.4339\n",
            "Epoch 67/150\n",
            "41/41 [==============================] - 0s 4ms/step - loss: 18.2021\n",
            "Epoch 68/150\n",
            "41/41 [==============================] - 0s 2ms/step - loss: 18.0089\n",
            "Epoch 69/150\n",
            "41/41 [==============================] - 0s 3ms/step - loss: 17.8450\n",
            "Epoch 70/150\n",
            "41/41 [==============================] - 0s 3ms/step - loss: 17.5871\n",
            "Epoch 71/150\n",
            "41/41 [==============================] - 0s 3ms/step - loss: 17.4631\n",
            "Epoch 72/150\n",
            "41/41 [==============================] - 0s 2ms/step - loss: 17.2211\n",
            "Epoch 73/150\n",
            "41/41 [==============================] - 0s 3ms/step - loss: 16.9681\n",
            "Epoch 74/150\n",
            "41/41 [==============================] - 0s 2ms/step - loss: 16.7814\n",
            "Epoch 75/150\n",
            "41/41 [==============================] - 0s 2ms/step - loss: 16.6681\n",
            "Epoch 76/150\n",
            "41/41 [==============================] - 0s 2ms/step - loss: 16.4441\n",
            "Epoch 77/150\n",
            "41/41 [==============================] - 0s 2ms/step - loss: 16.2532\n",
            "Epoch 78/150\n",
            "41/41 [==============================] - 0s 3ms/step - loss: 16.1086\n",
            "Epoch 79/150\n",
            "41/41 [==============================] - 0s 3ms/step - loss: 15.8175\n",
            "Epoch 80/150\n",
            "41/41 [==============================] - 0s 3ms/step - loss: 15.7250\n",
            "Epoch 81/150\n",
            "41/41 [==============================] - 0s 2ms/step - loss: 15.4827\n",
            "Epoch 82/150\n",
            "41/41 [==============================] - 0s 3ms/step - loss: 15.3194\n",
            "Epoch 83/150\n",
            "41/41 [==============================] - 0s 2ms/step - loss: 15.1819\n",
            "Epoch 84/150\n",
            "41/41 [==============================] - 0s 2ms/step - loss: 15.0266\n",
            "Epoch 85/150\n",
            "41/41 [==============================] - 0s 2ms/step - loss: 14.8543\n",
            "Epoch 86/150\n",
            "41/41 [==============================] - 0s 2ms/step - loss: 14.6697\n",
            "Epoch 87/150\n",
            "41/41 [==============================] - 0s 3ms/step - loss: 14.5665\n",
            "Epoch 88/150\n",
            "41/41 [==============================] - 0s 4ms/step - loss: 14.4120\n",
            "Epoch 89/150\n",
            "41/41 [==============================] - 0s 3ms/step - loss: 14.2398\n",
            "Epoch 90/150\n",
            "41/41 [==============================] - 0s 2ms/step - loss: 14.1070\n",
            "Epoch 91/150\n",
            "41/41 [==============================] - 0s 4ms/step - loss: 13.9137\n",
            "Epoch 92/150\n",
            "41/41 [==============================] - 0s 3ms/step - loss: 13.7963\n",
            "Epoch 93/150\n",
            "41/41 [==============================] - 0s 3ms/step - loss: 13.7578\n",
            "Epoch 94/150\n",
            "41/41 [==============================] - 0s 3ms/step - loss: 13.5563\n",
            "Epoch 95/150\n",
            "41/41 [==============================] - 0s 4ms/step - loss: 13.5165\n",
            "Epoch 96/150\n",
            "41/41 [==============================] - 0s 3ms/step - loss: 13.2702\n",
            "Epoch 97/150\n",
            "41/41 [==============================] - 0s 2ms/step - loss: 13.1473\n",
            "Epoch 98/150\n",
            "41/41 [==============================] - 0s 3ms/step - loss: 13.0365\n",
            "Epoch 99/150\n",
            "41/41 [==============================] - 0s 3ms/step - loss: 12.8808\n",
            "Epoch 100/150\n",
            "41/41 [==============================] - 0s 2ms/step - loss: 12.7987\n",
            "Epoch 101/150\n",
            "41/41 [==============================] - 0s 2ms/step - loss: 12.6560\n",
            "Epoch 102/150\n",
            "41/41 [==============================] - 0s 3ms/step - loss: 12.6048\n",
            "Epoch 103/150\n",
            "41/41 [==============================] - 0s 4ms/step - loss: 12.5098\n",
            "Epoch 104/150\n",
            "41/41 [==============================] - 0s 3ms/step - loss: 12.4572\n",
            "Epoch 105/150\n",
            "41/41 [==============================] - 0s 2ms/step - loss: 12.3177\n",
            "Epoch 106/150\n",
            "41/41 [==============================] - 0s 2ms/step - loss: 12.2450\n",
            "Epoch 107/150\n",
            "41/41 [==============================] - 0s 3ms/step - loss: 12.1791\n",
            "Epoch 108/150\n",
            "41/41 [==============================] - 0s 2ms/step - loss: 12.0602\n",
            "Epoch 109/150\n",
            "41/41 [==============================] - 0s 2ms/step - loss: 11.9353\n",
            "Epoch 110/150\n",
            "41/41 [==============================] - 0s 2ms/step - loss: 11.8668\n",
            "Epoch 111/150\n",
            "41/41 [==============================] - 0s 3ms/step - loss: 11.7535\n",
            "Epoch 112/150\n",
            "41/41 [==============================] - 0s 3ms/step - loss: 11.7112\n",
            "Epoch 113/150\n",
            "41/41 [==============================] - 0s 2ms/step - loss: 11.6696\n",
            "Epoch 114/150\n",
            "41/41 [==============================] - 0s 2ms/step - loss: 11.5772\n",
            "Epoch 115/150\n",
            "41/41 [==============================] - 0s 2ms/step - loss: 11.5127\n",
            "Epoch 116/150\n",
            "41/41 [==============================] - 0s 3ms/step - loss: 11.4199\n",
            "Epoch 117/150\n",
            "41/41 [==============================] - 0s 2ms/step - loss: 11.3919\n",
            "Epoch 118/150\n",
            "41/41 [==============================] - 0s 2ms/step - loss: 11.3053\n",
            "Epoch 119/150\n",
            "41/41 [==============================] - 0s 2ms/step - loss: 11.2542\n",
            "Epoch 120/150\n",
            "41/41 [==============================] - 0s 3ms/step - loss: 11.2354\n",
            "Epoch 121/150\n",
            "41/41 [==============================] - 0s 3ms/step - loss: 11.1858\n",
            "Epoch 122/150\n",
            "41/41 [==============================] - 0s 2ms/step - loss: 11.1126\n",
            "Epoch 123/150\n",
            "41/41 [==============================] - 0s 2ms/step - loss: 11.0333\n",
            "Epoch 124/150\n",
            "41/41 [==============================] - 0s 3ms/step - loss: 10.9860\n",
            "Epoch 125/150\n",
            "41/41 [==============================] - 0s 3ms/step - loss: 10.9216\n",
            "Epoch 126/150\n",
            "41/41 [==============================] - 0s 2ms/step - loss: 10.9023\n",
            "Epoch 127/150\n",
            "41/41 [==============================] - 0s 2ms/step - loss: 10.8126\n",
            "Epoch 128/150\n",
            "41/41 [==============================] - 0s 3ms/step - loss: 10.7583\n",
            "Epoch 129/150\n",
            "41/41 [==============================] - 0s 4ms/step - loss: 10.7389\n",
            "Epoch 130/150\n",
            "41/41 [==============================] - 0s 3ms/step - loss: 10.7552\n",
            "Epoch 131/150\n",
            "41/41 [==============================] - 0s 2ms/step - loss: 10.6704\n",
            "Epoch 132/150\n",
            "41/41 [==============================] - 0s 2ms/step - loss: 10.6561\n",
            "Epoch 133/150\n",
            "41/41 [==============================] - 0s 2ms/step - loss: 10.5795\n",
            "Epoch 134/150\n",
            "41/41 [==============================] - 0s 3ms/step - loss: 10.5225\n",
            "Epoch 135/150\n",
            "41/41 [==============================] - 0s 2ms/step - loss: 10.5475\n",
            "Epoch 136/150\n",
            "41/41 [==============================] - 0s 2ms/step - loss: 10.4542\n",
            "Epoch 137/150\n",
            "41/41 [==============================] - 0s 3ms/step - loss: 10.4064\n",
            "Epoch 138/150\n",
            "41/41 [==============================] - 0s 3ms/step - loss: 10.4178\n",
            "Epoch 139/150\n",
            "41/41 [==============================] - 0s 2ms/step - loss: 10.2870\n",
            "Epoch 140/150\n",
            "41/41 [==============================] - 0s 2ms/step - loss: 10.3138\n",
            "Epoch 141/150\n",
            "41/41 [==============================] - 0s 2ms/step - loss: 10.2480\n",
            "Epoch 142/150\n",
            "41/41 [==============================] - 0s 2ms/step - loss: 10.2130\n",
            "Epoch 143/150\n",
            "41/41 [==============================] - 0s 2ms/step - loss: 10.2053\n",
            "Epoch 144/150\n",
            "41/41 [==============================] - 0s 2ms/step - loss: 10.2213\n",
            "Epoch 145/150\n",
            "41/41 [==============================] - 0s 2ms/step - loss: 10.2403\n",
            "Epoch 146/150\n",
            "41/41 [==============================] - 0s 3ms/step - loss: 10.1262\n",
            "Epoch 147/150\n",
            "41/41 [==============================] - 0s 3ms/step - loss: 10.0942\n",
            "Epoch 148/150\n",
            "41/41 [==============================] - 0s 3ms/step - loss: 10.0525\n",
            "Epoch 149/150\n",
            "41/41 [==============================] - 0s 2ms/step - loss: 10.0315\n",
            "Epoch 150/150\n",
            "41/41 [==============================] - 0s 2ms/step - loss: 9.9921\n"
          ]
        }
      ]
    },
    {
      "cell_type": "markdown",
      "source": [
        "# Making Predictions"
      ],
      "metadata": {
        "id": "EUZYFnmOeVO1"
      }
    },
    {
      "cell_type": "code",
      "source": [
        "ypred = model.predict(Xtest)\n",
        "ypred = ypred[:, 0]"
      ],
      "metadata": {
        "colab": {
          "base_uri": "https://localhost:8080/"
        },
        "id": "gkp2yTyUeTjP",
        "outputId": "06214c28-e0e4-434d-e836-290a955ae205"
      },
      "execution_count": 8,
      "outputs": [
        {
          "output_type": "stream",
          "name": "stdout",
          "text": [
            "4/4 [==============================] - 0s 5ms/step\n"
          ]
        }
      ]
    },
    {
      "cell_type": "markdown",
      "source": [
        "# Evaluating the Model"
      ],
      "metadata": {
        "id": "XnlwmqAfe5jQ"
      }
    },
    {
      "cell_type": "code",
      "source": [
        "error = np.sum(np.abs(ytest - ypred)) / np.sum(np.abs(ytest)) * 100\n",
        "print('Prediction Error is', error, '%')"
      ],
      "metadata": {
        "colab": {
          "base_uri": "https://localhost:8080/"
        },
        "id": "nxSXLjeye0OV",
        "outputId": "b8e9256e-4967-4dbe-faa5-251b3a30a4f6"
      },
      "execution_count": 9,
      "outputs": [
        {
          "output_type": "stream",
          "name": "stdout",
          "text": [
            "Prediction Error is 10.022417053546041 %\n"
          ]
        }
      ]
    }
  ]
}